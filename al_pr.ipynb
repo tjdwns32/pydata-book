{
 "cells": [
  {
   "cell_type": "code",
   "execution_count": 25,
   "metadata": {
    "scrolled": false
   },
   "outputs": [
    {
     "name": "stdout",
     "output_type": "stream",
     "text": [
      "100\n",
      "[1, 2, 3, 4, 5, 6, 7, 8, 9, 10, 11, 12, 13, 14, 15, 16, 17, 18, 19, 20, 21, 22, 23, 24, 25, 26, 27, 28, 29, 30, 31, 32, 33, 34, 35, 36, 37, 38, 39, 40, 41, 42, 43, 45, 46, 47, 48, 49, 50, 51, 52, 53, 54, 55, 56, 57, 58, 59, 60, 61, 62, 63, 64, 65, 66, 67, 68, 69, 70, 71, 72, 73, 74, 75, 76, 77, 78, 79, 80, 81, 82, 83, 84, 85, 86, 87, 88, 89, 90, 91, 92, 93, 94, 95, 96, 97, 98, 99, 100]\n",
      "44\n"
     ]
    }
   ],
   "source": [
    "import random\n",
    "\n",
    "hogu = 0\n",
    "\n",
    "item = []\n",
    "carr = list(range(1,101))\n",
    "    \n",
    "random.shuffle(carr)\n",
    "\n",
    "item = carr[:-1]\n",
    "item.sort()\n",
    "\n",
    "for i in range(1,100):\n",
    "    if i != item[i-1]:\n",
    "        hogu = i\n",
    "        break\n",
    "\n",
    "print(item)\n",
    "print(hogu)\n"
   ]
  },
  {
   "cell_type": "code",
   "execution_count": 33,
   "metadata": {},
   "outputs": [],
   "source": [
    "def is_palindrome(_input):\n",
    "    cnt = len(_input)//2\n",
    "    is_pal = True\n",
    "    for i in range(cnt):\n",
    "        if _input[i] != _input[-(i+1)]:\n",
    "            is_pal = False\n",
    "    return is_pal\n",
    "        "
   ]
  },
  {
   "cell_type": "code",
   "execution_count": 36,
   "metadata": {},
   "outputs": [
    {
     "name": "stdout",
     "output_type": "stream",
     "text": [
      "b\n",
      "True\n"
     ]
    }
   ],
   "source": [
    "a = input()\n",
    "print(is_palindrome(a))"
   ]
  },
  {
   "cell_type": "code",
   "execution_count": null,
   "metadata": {},
   "outputs": [],
   "source": [
    "def what_day(year,month,day):\n",
    "    day_of_month = [31,28,31,30,31,30,31,31,30,31,30,31]\n",
    "    tot_day = 365*year + sum(day_of_month[:(month-1)]) + day"
   ]
  }
 ],
 "metadata": {
  "kernelspec": {
   "display_name": "Python 3",
   "language": "python",
   "name": "python3"
  },
  "language_info": {
   "codemirror_mode": {
    "name": "ipython",
    "version": 3
   },
   "file_extension": ".py",
   "mimetype": "text/x-python",
   "name": "python",
   "nbconvert_exporter": "python",
   "pygments_lexer": "ipython3",
   "version": "3.6.5"
  }
 },
 "nbformat": 4,
 "nbformat_minor": 2
}
