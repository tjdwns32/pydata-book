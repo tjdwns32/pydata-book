{
 "cells": [
  {
   "cell_type": "code",
   "execution_count": 50,
   "metadata": {},
   "outputs": [],
   "source": [
    "def solution(record):\n",
    "    answer = []\n",
    "    name_dic = {}\n",
    "    enter_set = set()\n",
    "    i = 0\n",
    "    for rec in record:\n",
    "        record[i] = rec.split()\n",
    "        if record[i][0] == \"Enter\":\n",
    "            enter_set.add(record[i][1])\n",
    "            name_dic[record[i][1]]=record[i][2]\n",
    "        if record[i][0] == \"Leave\":\n",
    "            record[i].append(name_dic[record[i][1]])\n",
    "            enter_set.remove(record[i][1])\n",
    "        if record[i][0] == \"Change\":\n",
    "            name_dic[record[i][1]]=record[i][2]\n",
    "                \n",
    "            \n",
    "        i += 1\n",
    "    for rec in record:\n",
    "        if rec[0] == \"Enter\":\n",
    "            answer.append(\"%s님이 들어왔습니다.\"%name_dic[rec[1]])\n",
    "        if rec[0] == \"Leave\":\n",
    "            answer.append(\"%s님이 나갔습니다.\"%name_dic[rec[1]])\n",
    "        \n",
    "    return answer\n"
   ]
  },
  {
   "cell_type": "code",
   "execution_count": 51,
   "metadata": {},
   "outputs": [
    {
     "data": {
      "text/plain": [
       "['Prodo님이 들어왔습니다.', 'Ryan님이 들어왔습니다.', 'Prodo님이 나갔습니다.', 'Prodo님이 들어왔습니다.']"
      ]
     },
     "execution_count": 51,
     "metadata": {},
     "output_type": "execute_result"
    }
   ],
   "source": [
    "record = [\"Enter uid1234 Muzi\", \"Enter uid4567 Prodo\",\"Leave uid1234\",\"Enter uid1234 Prodo\",\"Change uid4567 Ryan\"]\n",
    "solution(record)"
   ]
  },
  {
   "cell_type": "code",
   "execution_count": 146,
   "metadata": {},
   "outputs": [],
   "source": [
    "def solution(N, stages):\n",
    "    answer = []\n",
    "    ranking = []\n",
    "    players = len(stages)\n",
    "    for i in range(1,N+1):\n",
    "        failer = 0\n",
    "        if i not in stages:\n",
    "            ranking.append((i,0))\n",
    "            continue\n",
    "        failer = stages.count(i)\n",
    "        ranking.append((i,(failer/players)))\n",
    "        players -= failer\n",
    "        if players == 0:\n",
    "            for a in range(i+1,N+1):\n",
    "                ranking.append((a,0))\n",
    "            break\n",
    "    ranking  =sorted(ranking,key = lambda ran :ran[1],reverse = True)\n",
    "    for ran in ranking:\n",
    "        answer.append(ran[0])\n",
    "    \n",
    "        \n",
    "            \n",
    "        \n",
    "    return answer"
   ]
  },
  {
   "cell_type": "code",
   "execution_count": 147,
   "metadata": {},
   "outputs": [
    {
     "data": {
      "text/plain": [
       "[6, 2, 4, 1, 3, 5]"
      ]
     },
     "execution_count": 147,
     "metadata": {},
     "output_type": "execute_result"
    }
   ],
   "source": [
    "solution(6,[2,1,2,6,2,4])"
   ]
  },
  {
   "cell_type": "code",
   "execution_count": 71,
   "metadata": {},
   "outputs": [
    {
     "name": "stdout",
     "output_type": "stream",
     "text": [
      "0\n",
      "1\n",
      "2\n",
      "3\n",
      "3\n",
      "[0, 1, 2, 3]\n"
     ]
    }
   ],
   "source": [
    "a = [0,1,2,3,4,3]\n",
    "for i in a:\n",
    "    print(i)\n",
    "    if i == 3:\n",
    "        del a[i]\n",
    "print(a)"
   ]
  },
  {
   "cell_type": "code",
   "execution_count": 9,
   "metadata": {},
   "outputs": [],
   "source": [
    "def solution(food_times, k):\n",
    "    answer = 0\n",
    "    sorted_food_times = sorted(food_times)\n",
    "    \n",
    "    f_len = len(food_times)\n",
    "    \n",
    "    i = 1\n",
    "    idx = 0\n",
    "    if k >= sum(food_times)\n",
    "    while k > f_len:\n",
    "        k -= f_len\n",
    "        #f_len -= sorted_food_times.count(i)\n",
    "        f_len = (sorted_food_times[idx+1]-sorted_food_times[idx])*len(sorted_food_times[idx:])\n",
    "        idx+=1\n",
    "        i = sorted_food_times[idx+1]\n",
    "    \n",
    "    #k번째 i를 구하라\n",
    "    k_cnt = 0\n",
    "    for r in range(len(food_times)):\n",
    "        if food_times[r] >= i: k_cnt += 1\n",
    "        if k_cnt == k: \n",
    "            answer = r+1\n",
    "            break\n",
    "    \n",
    "        \n",
    "    return answer"
   ]
  },
  {
   "cell_type": "code",
   "execution_count": 11,
   "metadata": {},
   "outputs": [
    {
     "data": {
      "text/plain": [
       "-1"
      ]
     },
     "execution_count": 11,
     "metadata": {},
     "output_type": "execute_result"
    }
   ],
   "source": [
    "solution([1,1,2],6)"
   ]
  },
  {
   "cell_type": "code",
   "execution_count": 37,
   "metadata": {},
   "outputs": [
    {
     "name": "stdout",
     "output_type": "stream",
     "text": [
      "0\n"
     ]
    }
   ],
   "source": [
    "a = [1,2,1]\n",
    "print(a.index(1))"
   ]
  },
  {
   "cell_type": "code",
   "execution_count": null,
   "metadata": {},
   "outputs": [],
   "source": []
  }
 ],
 "metadata": {
  "kernelspec": {
   "display_name": "Python 3",
   "language": "python",
   "name": "python3"
  },
  "language_info": {
   "codemirror_mode": {
    "name": "ipython",
    "version": 3
   },
   "file_extension": ".py",
   "mimetype": "text/x-python",
   "name": "python",
   "nbconvert_exporter": "python",
   "pygments_lexer": "ipython3",
   "version": "3.6.5"
  }
 },
 "nbformat": 4,
 "nbformat_minor": 2
}
